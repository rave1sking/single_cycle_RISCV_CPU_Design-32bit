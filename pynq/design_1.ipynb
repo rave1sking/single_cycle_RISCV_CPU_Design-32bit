{
 "cells": [
  {
   "cell_type": "code",
   "execution_count": null,
   "metadata": {},
   "outputs": [],
   "source": []
  },
  {
   "cell_type": "code",
   "execution_count": 72,
   "metadata": {},
   "outputs": [],
   "source": [
    "from pynq import Overlay \n",
    "from pynq.lib import AxiGPIO \n",
    "import time\n",
    "overlay = Overlay(\"/home/xilinx/jupyter_notebooks/oDisk/design_1.bit\")"
   ]
  },
  {
   "cell_type": "code",
   "execution_count": 73,
   "metadata": {},
   "outputs": [],
   "source": [
    "gpio_0 = overlay.ip_dict['axi_gpio_1']\n",
    "gpio_A = AxiGPIO(gpio_0).channel1  #clk（时钟）\n",
    "gpio_B=AxiGPIO(gpio_0).channel2    #rstn（重置）\n",
    "gpio_1 = overlay.ip_dict['axi_gpio_0']\n",
    "gpio_S = AxiGPIO(gpio_1).channel1  #result （运算结果）"
   ]
  },
  {
   "cell_type": "code",
   "execution_count": 74,
   "metadata": {},
   "outputs": [
    {
     "name": "stdout",
     "output_type": "stream",
     "text": [
      "在数组：1 2 3 4 5 6 7 8 9 10中用二分查找算法查找：3\n",
      "结果：3的位置在2号下标处\n"
     ]
    }
   ],
   "source": [
    "mask = 0b1\n",
    "gpio_A.write(0b0,mask) \n",
    "gpio_B.write(0b0,mask)\n",
    "\n",
    "time.sleep(0.0005)  \n",
    "gpio_A.write(0b1,mask) \n",
    "gpio_B.write(0b1,mask)\n",
    "S=gpio_S.read()\n",
    "print(\"在数组：1 2 3 4 5 6 7 8 9 10\"+\"中用二分查找算法查找：3\")\n",
    "for i in range(31):\n",
    "    time.sleep(0.0005)\n",
    "    gpio_A.write(0b1,mask)\n",
    "    S=gpio_S.read()\n",
    "    time.sleep(0.0005)\n",
    "    gpio_A.write(0b0,mask)\n",
    "    time.sleep(0.0005)\n",
    "    S=gpio_S.read()\n",
    "print(\"结果：3的位置在\"+str(S)+\"号下标处\")"
   ]
  },
  {
   "cell_type": "code",
   "execution_count": null,
   "metadata": {},
   "outputs": [],
   "source": []
  },
  {
   "cell_type": "code",
   "execution_count": null,
   "metadata": {},
   "outputs": [],
   "source": []
  },
  {
   "cell_type": "code",
   "execution_count": null,
   "metadata": {},
   "outputs": [],
   "source": []
  },
  {
   "cell_type": "code",
   "execution_count": null,
   "metadata": {},
   "outputs": [],
   "source": []
  }
 ],
 "metadata": {
  "kernelspec": {
   "display_name": "Python 3",
   "language": "python",
   "name": "python3"
  },
  "language_info": {
   "codemirror_mode": {
    "name": "ipython",
    "version": 3
   },
   "file_extension": ".py",
   "mimetype": "text/x-python",
   "name": "python",
   "nbconvert_exporter": "python",
   "pygments_lexer": "ipython3",
   "version": "3.6.5"
  }
 },
 "nbformat": 4,
 "nbformat_minor": 2
}
